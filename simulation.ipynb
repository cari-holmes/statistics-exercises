{
 "cells": [
  {
   "cell_type": "code",
   "execution_count": 70,
   "metadata": {},
   "outputs": [],
   "source": [
    "import numpy as np \n",
    "import pandas as pd\n",
    "\n",
    "np.random.seed(3)"
   ]
  },
  {
   "cell_type": "code",
   "execution_count": 71,
   "metadata": {},
   "outputs": [
    {
     "data": {
      "text/plain": [
       "0.1711"
      ]
     },
     "execution_count": 71,
     "metadata": {},
     "output_type": "execute_result"
    }
   ],
   "source": [
    "#1. How likely is it that you roll doubles when rolling two dice?\n",
    "rolled_dice = 10_000\n",
    "n_dice_rolled = 2\n",
    "\n",
    "rolls = np.random.choice([1, 2, 3, 4, 5, 6], (rolled_dice, n_dice_rolled))\n",
    "rolls\n",
    "\n",
    "df_rolls=(pd.DataFrame(rolls)\n",
    "          .apply(lambda row: row[0] == row[1] in row.values, axis=1)\n",
    "         .mean())\n",
    "df_rolls\n",
    "\n",
    "\n",
    "# subset matrices: (rolls[:,0] == rolls[:,1]).mean()"
   ]
  },
  {
   "cell_type": "code",
   "execution_count": 72,
   "metadata": {},
   "outputs": [
    {
     "data": {
      "text/plain": [
       "0.0"
      ]
     },
     "execution_count": 72,
     "metadata": {},
     "output_type": "execute_result"
    }
   ],
   "source": [
    "##2. If you flip 8 coins, what is the probability of getting exactly 3 heads? What is the probability of getting more than 3 heads?\n",
    "trials = 100\n",
    "coins = 8\n",
    "\n",
    "toss = np.random.choice([0, 1], (trials, coins))\n",
    "toss\n",
    "\n",
    "df_toss = pd.DataFrame(toss)\n",
    "df_toss\n",
    "    \n",
    "#what is prob of exactly 3 heads (heads == 3)\n",
    "def head_toss(row):\n",
    "    count = 0\n",
    "    for heads in row:\n",
    "        if heads == 1:\n",
    "            count += 1\n",
    "        return count\n",
    "\n",
    "three = (df_toss.apply(head_toss, axis=1)\n",
    "         .apply(lambda row: row == 3)\n",
    "         .mean())\n",
    "three\n",
    "more_than_three = (df_toss.apply(head_toss, axis=1)\n",
    "                   .apply(lambda row: row > 3)\n",
    "                   .mean())\n",
    "more_than_three\n",
    "\n",
    "#(toss == 1).sum(axis=1)==3).mean()"
   ]
  },
  {
   "cell_type": "code",
   "execution_count": 77,
   "metadata": {},
   "outputs": [],
   "source": [
    "#3. There are approximitely 3 web development cohorts for every 1 data science cohort at Codeup. Assuming that Codeup randomly selects an alumni to put on a billboard, what are the odds that the two billboards I drive past both have data science students on them?\n",
    "\n",
    "## what is probability that 2 billboards will have ds students on them?\n",
    "#ds 1 class out of 4 classes\n",
    "ds = 1/4\n",
    "trials = 100\n",
    "billboards = 2\n",
    "\n",
    "times = np.random.random((trials,billboards))\n",
    "df_times = pd.DataFrame(times)\n",
    "df_times <= ds\n",
    "\n",
    "# .choice and input my own list classes = ['web dev']* 3 + ['ds']\n",
    "# and equal each output == 'ds'"
   ]
  },
  {
   "cell_type": "code",
   "execution_count": 78,
   "metadata": {},
   "outputs": [
    {
     "data": {
      "text/plain": [
       "0.67"
      ]
     },
     "execution_count": 78,
     "metadata": {},
     "output_type": "execute_result"
    }
   ],
   "source": [
    "#4. Codeup students buy, on average, 3 poptart packages (+- 1.5) a day from the snack vending machine. If on monday the machine is restocked with 17 poptart packages, how likely is it that I will be able to buy some poptarts on Friday afternoon?\n",
    "#Avg_buy = 3/day\n",
    "Monday_stock = 17\n",
    "#Friday_stock = ?\n",
    "times_a_day = 100\n",
    "\n",
    "grab_tart = np.random.normal(3,1.5, (times_a_day, 5))\n",
    "df_tart=pd.DataFrame(grab_tart)\n",
    "df_tart\n",
    "tart_sales = df_tart.sum(axis=1)<=17\n",
    "tart_sales.mean()\n",
    "\n",
    "# np.round()\n",
    "#to change negative numbers to 0:\n",
    "## np.where 'condition = True, replace 0, if false return original value\n",
    "# in pandas, .where flip the condition"
   ]
  },
  {
   "cell_type": "code",
   "execution_count": 79,
   "metadata": {},
   "outputs": [
    {
     "data": {
      "text/plain": [
       "0.21"
      ]
     },
     "execution_count": 79,
     "metadata": {},
     "output_type": "execute_result"
    }
   ],
   "source": [
    "#5. Compare Heights\n",
    "# Men have an average height of 178 cm and standard deviation of 8cm.\n",
    "# Women have a mean of 170, sd = 6cm.\n",
    "# If a man and woman are chosen at random, P(woman taller than man)?\n",
    "men_height = 178\n",
    "men_std = 8\n",
    "women_height = 170\n",
    "women_std = 6\n",
    "n_trials = 100\n",
    "\n",
    "men = np.random.normal(men_height,men_std, n_trials)\n",
    "men\n",
    "women = np.random.normal(women_height,women_std, n_trials)\n",
    "women\n",
    "\n",
    "women_taller = (women > men).mean()\n",
    "women_taller"
   ]
  },
  {
   "cell_type": "code",
   "execution_count": 93,
   "metadata": {},
   "outputs": [],
   "source": [
    "#6. When installing anaconda on a student's computer, there's a 1 in 250 chance that the download is corrupted and the installation fails. \n",
    "# What are the odds that after having 50 students download anaconda, no one has an installation issue? 100 students?\n",
    "# What is the probability that we observe an installation issue within the first 150 students that download anaconda?\n",
    "# How likely is it that 450 students all download anaconda without an issue?\n",
    "\n",
    "corrupted = 1/250 \n",
    "students = 50 \n",
    "n_trials = 100\n",
    "\n",
    "fifty = np.random.choice([0,1], n_trials, students)\n",
    "\n",
    "#corrupt = (fifty <= corrupted).sum(axis=1)\n",
    "# 1 - array number for nobody had problem answer\n",
    "# bool turns into true/false value\n",
    "#.sum(axis=1) number of true for each row\n",
    "# == 0 for no problems\n",
    "# .mean() for average\n",
    "\n",
    "(np.random.random((n_trials, 50)) < corrupted).sum(axis=1) >0).mean()"
   ]
  },
  {
   "cell_type": "code",
   "execution_count": 102,
   "metadata": {},
   "outputs": [
    {
     "data": {
      "text/plain": [
       "0.06"
      ]
     },
     "execution_count": 102,
     "metadata": {},
     "output_type": "execute_result"
    }
   ],
   "source": [
    "#7. There's a 70% chance on any given day that there will be at least one food truck at Travis Park. However, you haven't seen a food truck there in 3 days. \n",
    "# How unlikely is this?\n",
    "# How likely is it that a food truck will show up sometime this week?\n",
    "days = 3\n",
    "trials = 100\n",
    "chance_of_truck = .7\n",
    "no_truck = 1 - chance_of_truck\n",
    "\n",
    "foodies = np.random.choice(['Food Truck', 'No Food Truck'],(trials, days), p=[chance_of_truck, no_truck])\n",
    "# bool val\n",
    "(foodies == 'No Food Truck').all(axis=1).mean()\n",
    "\n",
    "# can solve np.random.choice([0,0,0,1,1,1,1,1,1,1])"
   ]
  },
  {
   "cell_type": "code",
   "execution_count": null,
   "metadata": {},
   "outputs": [],
   "source": [
    "#8. If 23 people are in the same room, what are the odds that two of them share a birthday? \n",
    "# What if it's 20 people? 40?\n",
    "n_sims = 100\n",
    "n_people = 23\n",
    "\n",
    ".nunique()"
   ]
  }
 ],
 "metadata": {
  "kernelspec": {
   "display_name": "Python 3",
   "language": "python",
   "name": "python3"
  },
  "language_info": {
   "codemirror_mode": {
    "name": "ipython",
    "version": 3
   },
   "file_extension": ".py",
   "mimetype": "text/x-python",
   "name": "python",
   "nbconvert_exporter": "python",
   "pygments_lexer": "ipython3",
   "version": "3.7.3"
  }
 },
 "nbformat": 4,
 "nbformat_minor": 2
}
