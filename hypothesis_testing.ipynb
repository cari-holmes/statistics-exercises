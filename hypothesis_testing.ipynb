{
 "cells": [
  {
   "cell_type": "markdown",
   "metadata": {},
   "source": [
    "For each of the following questions, formulate a null and alternative hypothesis (be as specific as you can be), then give an example of what a true positive, true negative, type I and type II errors would look like."
   ]
  },
  {
   "cell_type": "markdown",
   "metadata": {},
   "source": [
    "- Is the website redesign any good?\n",
    "\n",
    "    - Ho = There is no difference between the old web design and the new web design.\n",
    "    - Ha = The new website design is better than the old website design.\n",
    "\n",
    "    - True positive (correctly reject Null Hypothesis): \n",
    "    We correctly reject the Ho based off of a low p-value, there was an effect accoding to the Ha.\n",
    "    \n",
    "    - True Negative (correctly accept(fail to reject) the Null Hypothesis): \n",
    "    We correctly fail to reject the Ho based off of a high p-value, higher than our alpha, no significant effect.\n",
    "   \n",
    "    - Type I error (Null Hypothesis is True but we reject it): \n",
    "    We wrongly reject the Ho based on our sample data but the Ho was actually correct. The web design had no effect.\n",
    "    \n",
    "    - Type II error (Null Hypothesis is False and we don't reject it):\n",
    "    We wrongly failed to reject the Ho based on our sample data that web design had no effect but the Ho was actually\n",
    "    incorrect. The web design had an effect."
   ]
  },
  {
   "cell_type": "markdown",
   "metadata": {},
   "source": [
    "- Is our television ad driving more sales?\n",
    "\n",
    "    - Ho = Our television ad makes no difference in sales.\n",
    "    - Ha = Our television ad is driving more in sales.\n",
    "\n",
    "    - True positive (correctly reject Null Hypothesis): \n",
    "    We correctly reject the Ho based on the fact our p-value is lower than our alpha. Our television ad is driving\n",
    "    more in sales.\n",
    "    \n",
    "    - True Negative (correctly accept(fail to reject) the Null Hypothesis):\n",
    "    We correctly fail to reject the Ho, our television ad makes no difference in sales. The p-value is higher than\n",
    "    our alpha.\n",
    "   \n",
    "    - Type I error (Null Hypothesis is True but we reject it):\n",
    "    We wrongly reject our Ho based on our sample data, but the Ho was actually correct. Our television add makes no\n",
    "    differene in sales.\n",
    "   \n",
    "    - Type II error (Null Hypothesis is False and we don't reject it):\n",
    "    We wrongly failed to reject the Ho based on sample data. Our sample data said the television ads made no \n",
    "    difference in sales but our television ads were driving more in sales, had an effect."
   ]
  },
  {
   "cell_type": "markdown",
   "metadata": {},
   "source": [
    "- Has the network latency gone up since we switched internet service providers?\n",
    "\n",
    "    - Ho = There is no difference in the network latency since we switched internet service providers.\n",
    "    - Ha = The network latency had gone up since we switched internet service providers.\n",
    "\n",
    "    - True positive (correctly reject Null Hypothesis): \n",
    "    We correctly reject the Ho based on a low p-value, lower than our alpha. There is a difference/a change in the \n",
    "    network latency since we switched internet service providers.\n",
    "    \n",
    "    - True Negative (correctly accept(fail to reject) the Null Hypothesis):\n",
    "    We correctly fail to reject the Ho, the network latency did not change since we switched internet service \n",
    "    providers. The p-value is greater than our alpha.\n",
    "    \n",
    "    - Type I error (Null Hypothesis is True but we reject it):\n",
    "    We wrongly rejected our Ho based on sample data, but the Ho was actually correct, there is no difference in \n",
    "    network latency since switching internet service providers.\n",
    "    \n",
    "    - Type II error (Null Hypothesis is False and we don't reject it):\n",
    "    We wrongly fail to reject the Ho based on sample data. The latency has changed since switching internet service\n",
    "    providers and had an effect.\n",
    "    "
   ]
  },
  {
   "cell_type": "markdown",
   "metadata": {},
   "source": [
    "# T-Test"
   ]
  },
  {
   "cell_type": "code",
   "execution_count": null,
   "metadata": {},
   "outputs": [],
   "source": [
    "# t-test for one sample - one subgroup to the population, wiht a sequence and a scalar\n",
    "stats.ttest_1samp(series/array/etc , mean)\n",
    "# (sequence of values: list, population average: float)\n",
    "\n",
    "# t-test for 2 samples - comparing 2 subgroups, with 2 sequences\n",
    "stats.test_ind(series 1, series 2)\n",
    "# (sequence of values 1: list, sequence of values 2: list)"
   ]
  },
  {
   "cell_type": "code",
   "execution_count": 51,
   "metadata": {},
   "outputs": [
    {
     "name": "stdout",
     "output_type": "stream",
     "text": [
      "t: 3.5355339059327378\n",
      "p-value: 0.0009000029669488137\n"
     ]
    }
   ],
   "source": [
    "#4. Ace Realty wants to determine whether the average time it takes to sell homes is different for its two offices. \n",
    "# A sample of 40 sales from office #1 revealed a mean of 90 days and a standard deviation of 15 days. \n",
    "# A sample of 50 sales from office #2 revealed a mean of 100 days and a standard deviation of 20 days. \n",
    "# Use a .05 level of significance.\n",
    "\n",
    "# two sample t-test\n",
    "import math\n",
    "from scipy import stats\n",
    "\n",
    "# office_1 \n",
    "one_mean = 90\n",
    "one_std = 15\n",
    "n1 = 40\n",
    "\n",
    "# office_2\n",
    "two_mean = 100\n",
    "two_std = 20\n",
    "n2 = 50\n",
    "\n",
    "# Null Hypothesis: There is no difference in time it takes to sell homes between the two offices.\n",
    "# Alternative Hypothesis: There is a difference between the average time it takes to sell homes between the two offices.\n",
    "\n",
    "t = (two_mean - one_mean) / (two_std/math.sqrt(n2))\n",
    "print('t:', t)\n",
    "\n",
    "p = stats.t(n2 - 1).sf(t)*2\n",
    "print('p-value:' ,p)\n",
    "\n",
    "\n",
    "# T = 3.536\n",
    "# p-value = 0.0009\n",
    "# With a p-value of 0.0009, less than 0.05, we reject the null hypothesis."
   ]
  },
  {
   "cell_type": "code",
   "execution_count": 153,
   "metadata": {},
   "outputs": [
    {
     "data": {
      "text/html": [
       "<div>\n",
       "<style scoped>\n",
       "    .dataframe tbody tr th:only-of-type {\n",
       "        vertical-align: middle;\n",
       "    }\n",
       "\n",
       "    .dataframe tbody tr th {\n",
       "        vertical-align: top;\n",
       "    }\n",
       "\n",
       "    .dataframe thead th {\n",
       "        text-align: right;\n",
       "    }\n",
       "</style>\n",
       "<table border=\"1\" class=\"dataframe\">\n",
       "  <thead>\n",
       "    <tr style=\"text-align: right;\">\n",
       "      <th></th>\n",
       "      <th>manufacturer</th>\n",
       "      <th>model</th>\n",
       "      <th>displ</th>\n",
       "      <th>year</th>\n",
       "      <th>cyl</th>\n",
       "      <th>trans</th>\n",
       "      <th>drv</th>\n",
       "      <th>cty</th>\n",
       "      <th>hwy</th>\n",
       "      <th>fl</th>\n",
       "      <th>class</th>\n",
       "    </tr>\n",
       "  </thead>\n",
       "  <tbody>\n",
       "    <tr>\n",
       "      <th>1</th>\n",
       "      <td>audi</td>\n",
       "      <td>a4</td>\n",
       "      <td>1.8</td>\n",
       "      <td>1999</td>\n",
       "      <td>4</td>\n",
       "      <td>auto</td>\n",
       "      <td>f</td>\n",
       "      <td>18</td>\n",
       "      <td>29</td>\n",
       "      <td>p</td>\n",
       "      <td>compact</td>\n",
       "    </tr>\n",
       "    <tr>\n",
       "      <th>2</th>\n",
       "      <td>audi</td>\n",
       "      <td>a4</td>\n",
       "      <td>1.8</td>\n",
       "      <td>1999</td>\n",
       "      <td>4</td>\n",
       "      <td>manual</td>\n",
       "      <td>f</td>\n",
       "      <td>21</td>\n",
       "      <td>29</td>\n",
       "      <td>p</td>\n",
       "      <td>compact</td>\n",
       "    </tr>\n",
       "    <tr>\n",
       "      <th>3</th>\n",
       "      <td>audi</td>\n",
       "      <td>a4</td>\n",
       "      <td>2.0</td>\n",
       "      <td>2008</td>\n",
       "      <td>4</td>\n",
       "      <td>manual</td>\n",
       "      <td>f</td>\n",
       "      <td>20</td>\n",
       "      <td>31</td>\n",
       "      <td>p</td>\n",
       "      <td>compact</td>\n",
       "    </tr>\n",
       "    <tr>\n",
       "      <th>4</th>\n",
       "      <td>audi</td>\n",
       "      <td>a4</td>\n",
       "      <td>2.0</td>\n",
       "      <td>2008</td>\n",
       "      <td>4</td>\n",
       "      <td>auto</td>\n",
       "      <td>f</td>\n",
       "      <td>21</td>\n",
       "      <td>30</td>\n",
       "      <td>p</td>\n",
       "      <td>compact</td>\n",
       "    </tr>\n",
       "    <tr>\n",
       "      <th>5</th>\n",
       "      <td>audi</td>\n",
       "      <td>a4</td>\n",
       "      <td>2.8</td>\n",
       "      <td>1999</td>\n",
       "      <td>6</td>\n",
       "      <td>auto</td>\n",
       "      <td>f</td>\n",
       "      <td>16</td>\n",
       "      <td>26</td>\n",
       "      <td>p</td>\n",
       "      <td>compact</td>\n",
       "    </tr>\n",
       "  </tbody>\n",
       "</table>\n",
       "</div>"
      ],
      "text/plain": [
       "  manufacturer model  displ  year  cyl   trans drv  cty  hwy fl    class\n",
       "1         audi    a4    1.8  1999    4    auto   f   18   29  p  compact\n",
       "2         audi    a4    1.8  1999    4  manual   f   21   29  p  compact\n",
       "3         audi    a4    2.0  2008    4  manual   f   20   31  p  compact\n",
       "4         audi    a4    2.0  2008    4    auto   f   21   30  p  compact\n",
       "5         audi    a4    2.8  1999    6    auto   f   16   26  p  compact"
      ]
     },
     "execution_count": 153,
     "metadata": {},
     "output_type": "execute_result"
    }
   ],
   "source": [
    "#5. Load the mpg dataset and use it to answer the following questions:\n",
    "\n",
    "import pandas as pd\n",
    "import numpy as np\n",
    "import matplotlib.pyplot as plt\n",
    "from pydataset import data\n",
    "mpg = data('mpg')\n",
    "mpg.trans = mpg.trans.str[:-4]\n",
    "mpg.head(5)\n",
    "\n",
    "#Ho = There is no difference in fuel-efficiency in cars from 2008 vs 1999.\n",
    "#Ha = There is a difference in fuel-efficiency in cars from 2008 vs 1999."
   ]
  },
  {
   "cell_type": "code",
   "execution_count": 68,
   "metadata": {},
   "outputs": [
    {
     "name": "stdout",
     "output_type": "stream",
     "text": [
      "t-stat: -2.9001322447463838\n",
      "p-value: 0.004268839797630685\n"
     ]
    }
   ],
   "source": [
    "# Example:\n",
    "# $H_0$: automatic cars have the same city mileage as the overall population\n",
    "# $H_a$: automatic cars do not have the same city mileage as the overall population\n",
    "    \n",
    "pop_city_mileage = mpg.cty.mean()\n",
    "pop_city_mileage\n",
    "auto_city_mileage = mpg[mpg.trans == 'auto'].cty\n",
    "t_stat, p = stats.ttest_1samp(auto_city_mileage, pop_city_mileage)\n",
    "print('t-stat:' ,t_stat)\n",
    "print('p-value:', p)"
   ]
  },
  {
   "cell_type": "code",
   "execution_count": 73,
   "metadata": {},
   "outputs": [
    {
     "data": {
      "text/plain": [
       "Series([], Name: cty, dtype: int64)"
      ]
     },
     "execution_count": 73,
     "metadata": {},
     "output_type": "execute_result"
    }
   ],
   "source": [
    "##- Is there a difference in fuel-efficiency in cars from 2008 vs 1999?\n",
    "oh_eight = mpg[mpg.year == '2008'].cty\n",
    "oh_eight\n",
    "\n",
    "nine_nine = mpg[mpg.year == '1999'].cty\n",
    "nine_nine"
   ]
  },
  {
   "cell_type": "code",
   "execution_count": 65,
   "metadata": {},
   "outputs": [
    {
     "name": "stdout",
     "output_type": "stream",
     "text": [
      "city: Ttest_indResult(statistic=2.2845195147123536, pvalue=0.024803276085898066)\n",
      "hwy: Ttest_indResult(statistic=1.5047866343782912, pvalue=0.1360428929931519)\n"
     ]
    }
   ],
   "source": [
    "#- Are compact cars more fuel-efficient than the average car?\n",
    "\n",
    "compact_cars_city = mpg[mpg['class'] == 'compact'].cty\n",
    "compact_cars_city.mean()\n",
    "\n",
    "average_cars_city = mpg[mpg['class'] == 'midsize'].cty\n",
    "average_cars_city.mean()\n",
    "\n",
    "print('city:', stats.ttest_ind(compact_cars_city, average_cars_city))\n",
    "\n",
    "compact_cars_hwy = mpg[mpg['class'] == 'compact'].hwy\n",
    "compact_cars_hwy.mean()\n",
    "\n",
    "average_cars_hwy = mpg[mpg['class'] == 'midsize'].hwy\n",
    "average_cars_hwy.mean()\n",
    "\n",
    "print('hwy:', stats.ttest_ind(compact_cars_hwy, average_cars_hwy))"
   ]
  },
  {
   "cell_type": "code",
   "execution_count": 28,
   "metadata": {},
   "outputs": [
    {
     "name": "stdout",
     "output_type": "stream",
     "text": [
      "city: Ttest_indResult(statistic=4.781718413818975, pvalue=3.088973514167085e-06)\n",
      "hwy: Ttest_indResult(statistic=4.368349972819688, pvalue=1.888044765552951e-05)\n"
     ]
    }
   ],
   "source": [
    "#- Do manual cars get better gas mileage than automatic cars?\n",
    "manual_cars_city = mpg[mpg.trans == 'manual'].cty\n",
    "manual_cars_city.mean()\n",
    "\n",
    "auto_cars_city = mpg[mpg.trans == 'auto'].cty\n",
    "auto_cars_city.mean()\n",
    "\n",
    "print('city:', stats.ttest_ind(manual_cars_city, auto_cars_city))\n",
    "\n",
    "manual_cars_hwy = mpg[mpg.trans == 'manual'].hwy\n",
    "manual_cars_hwy.mean()\n",
    "\n",
    "auto_cars_hwy = mpg[mpg.trans == 'auto'].hwy\n",
    "auto_cars_hwy.mean()\n",
    "\n",
    "print('hwy:', stats.ttest_ind(manual_cars_hwy, auto_cars_hwy))"
   ]
  },
  {
   "cell_type": "markdown",
   "metadata": {},
   "source": [
    "# Correlation"
   ]
  },
  {
   "cell_type": "code",
   "execution_count": 45,
   "metadata": {},
   "outputs": [
    {
     "name": "stdout",
     "output_type": "stream",
     "text": [
      "(0.24604059691061692, 1.820659268201368e-97)\n"
     ]
    },
    {
     "data": {
      "text/plain": [
       "<matplotlib.axes._subplots.AxesSubplot at 0x1a1e417710>"
      ]
     },
     "execution_count": 45,
     "metadata": {},
     "output_type": "execute_result"
    },
    {
     "data": {
      "image/png": "[encoded data removed]",
      "text/plain": [
       "<Figure size 432x288 with 1 Axes>"
      ]
     },
     "metadata": {
      "needs_background": "light"
     },
     "output_type": "display_data"
    }
   ],
   "source": [
    "#1. Use the telco_churn data. \n",
    "\n",
    "telco = pd.read_excel(\"my_telco_churn.xlsx\")\n",
    "# this line of code drops any 'na' values\n",
    "telco = telco.iloc[:,:-3].dropna()\n",
    "telco\n",
    "\n",
    "# Does tenure correlate with monthly charges? \n",
    "\n",
    "x = telco.tenure\n",
    "y = telco.monthly_charges\n",
    "print(stats.pearsonr(telco.tenure, telco.monthly_charges))\n",
    "telco.plot.scatter(x = 'tenure', y ='monthly_charges')\n",
    "\n",
    "# No correlation"
   ]
  },
  {
   "cell_type": "code",
   "execution_count": 47,
   "metadata": {},
   "outputs": [
    {
     "name": "stdout",
     "output_type": "stream",
     "text": [
      "(0.8257411779462007, 0.0)\n"
     ]
    },
    {
     "data": {
      "text/plain": [
       "<matplotlib.axes._subplots.AxesSubplot at 0x1a2105afd0>"
      ]
     },
     "execution_count": 47,
     "metadata": {},
     "output_type": "execute_result"
    },
    {
     "data": {
      "image/png": "[encoded data removed]",
      "text/plain": [
       "<Figure size 432x288 with 1 Axes>"
      ]
     },
     "metadata": {
      "needs_background": "light"
     },
     "output_type": "display_data"
    }
   ],
   "source": [
    "# Total charges? \n",
    "\n",
    "x= telco.tenure\n",
    "y= telco.total_charges\n",
    "print(stats.pearsonr(telco.tenure, telco.total_charges))\n",
    "telco.plot.scatter(x='tenure', y='total_charges')\n",
    "\n",
    "# Yes, positive correlation"
   ]
  },
  {
   "cell_type": "code",
   "execution_count": null,
   "metadata": {},
   "outputs": [],
   "source": [
    "# What happens if you control for phone and internet service?\n"
   ]
  },
  {
   "cell_type": "code",
   "execution_count": 152,
   "metadata": {},
   "outputs": [
    {
     "ename": "AttributeError",
     "evalue": "'float' object has no attribute 'str'",
     "output_type": "error",
     "traceback": [
      "\u001b[0;31m---------------------------------------------------------------------------\u001b[0m",
      "\u001b[0;31mAttributeError\u001b[0m                            Traceback (most recent call last)",
      "\u001b[0;32m<ipython-input-152-2411e588ef97>\u001b[0m in \u001b[0;36m<module>\u001b[0;34m\u001b[0m\n\u001b[1;32m     62\u001b[0m \u001b[0;31m# Is there a relationship between how long an employee has been with the company and their salary?\u001b[0m\u001b[0;34m\u001b[0m\u001b[0;34m\u001b[0m\u001b[0;34m\u001b[0m\u001b[0m\n\u001b[1;32m     63\u001b[0m \u001b[0;34m\u001b[0m\u001b[0m\n\u001b[0;32m---> 64\u001b[0;31m \u001b[0memp_sal\u001b[0m \u001b[0;34m=\u001b[0m \u001b[0memployees\u001b[0m\u001b[0;34m.\u001b[0m\u001b[0msalary\u001b[0m\u001b[0;34m.\u001b[0m\u001b[0mmean\u001b[0m\u001b[0;34m(\u001b[0m\u001b[0;34m)\u001b[0m\u001b[0;34m.\u001b[0m\u001b[0mstr\u001b[0m\u001b[0;34m\u001b[0m\u001b[0;34m\u001b[0m\u001b[0m\n\u001b[0m\u001b[1;32m     65\u001b[0m \u001b[0;31m# # 72012.236\u001b[0m\u001b[0;34m\u001b[0m\u001b[0;34m\u001b[0m\u001b[0;34m\u001b[0m\u001b[0m\n\u001b[1;32m     66\u001b[0m \u001b[0;31m# emp_ten = employees.tenure.mean().str\u001b[0m\u001b[0;34m\u001b[0m\u001b[0;34m\u001b[0m\u001b[0;34m\u001b[0m\u001b[0m\n",
      "\u001b[0;31mAttributeError\u001b[0m: 'float' object has no attribute 'str'"
     ]
    }
   ],
   "source": [
    "#2. Use the employees database.\n",
    "from env import host, user, password\n",
    "def get_db_url(host, user, password, database_name):\n",
    "    url = f'mysql+pymysql://{user}:{password}@{host}/{database_name}'\n",
    "    return url\n",
    "\n",
    "database_name = \"employees\"\n",
    "url = f'mysql+pymysql://{user}:{password}@{host}/{database_name}'\n",
    "query = \"\"\"SELECT\n",
    "    e.*,\n",
    "    datediff('2002-09-30', e.hire_date) tenure,\n",
    "    t.title,\n",
    "    t.from_date title_from,\n",
    "    datediff('2002-09-30', t.from_date) t_tenure,\n",
    "    et.titles,\n",
    "    s.salary,\n",
    "    s.from_date salary_from,\n",
    "    datediff('2002-09-30', s.from_date) s_tenure,\n",
    "    es.salaries\n",
    "FROM\n",
    "    employees e\n",
    "JOIN \n",
    "    titles t \n",
    "    USING(emp_no)\n",
    "JOIN \n",
    "    salaries s \n",
    "    USING(emp_no)\n",
    "JOIN\n",
    "    (SELECT \n",
    "        emp_no,\n",
    "        count(*) titles\n",
    "    FROM\n",
    "        titles\n",
    "    GROUP BY\n",
    "        emp_no) et\n",
    "    USING(emp_no)\n",
    "JOIN\n",
    "    (SELECT \n",
    "        emp_no,\n",
    "        count(*) salaries\n",
    "    FROM\n",
    "        salaries\n",
    "    GROUP BY\n",
    "        emp_no) es\n",
    "    USING(emp_no)\n",
    "WHERE\n",
    "    s.to_date > '2002-09-30'\n",
    "    AND t.to_date > '2002-09-30'; \"\"\"\n",
    "employees = pd.read_sql(query, url)\n",
    "employees\n",
    "\n",
    "#pd.Series(delta.days for delta in (df['Left'] - df['Arrived'])) for date change\n",
    "# salaries WHERE DATEDIFF(day, from_date, to_date)\n",
    "# x = df_salaries.salary\n",
    "# hire date, salary to_date > today\n",
    "# inner join\n",
    "# date.diff in sql to get a difference of days\n",
    "# pd.date_range(from_date, to_date, )\n",
    "# or treat date as a string \n",
    "\n",
    "\n",
    "# Is there a relationship between how long an employee has been with the company and their salary?\n",
    "\n",
    "emp_sal = employees.salary.mean().str\n",
    "# 72012.236\n",
    "emp_ten = employees.tenure.mean().str\n",
    "# 4626.878\n",
    "# need to change dtype to str for stats to work\n",
    "stats.pearsonr(emp_sal, emp_ten)"
   ]
  },
  {
   "cell_type": "code",
   "execution_count": null,
   "metadata": {},
   "outputs": [],
   "source": [
    "# Is there a relationship between how long an employee has been with the company and the number of titles they have had?\n",
    "\n",
    "employees[employees.title]"
   ]
  },
  {
   "cell_type": "code",
   "execution_count": 41,
   "metadata": {},
   "outputs": [
    {
     "data": {
      "text/plain": [
       "(0.5352302262650253, 9.894096322214812e-15)"
      ]
     },
     "execution_count": 41,
     "metadata": {},
     "output_type": "execute_result"
    }
   ],
   "source": [
    "# Use the sleepstudy data. Is there a relationship between days and reaction time?\n",
    "\n",
    "# Ho: There is no relationship between the days and reaction time.\n",
    "# We reject the null hypothesis\n",
    "\n",
    "sleepstudy = data('sleepstudy')\n",
    "sleepstudy\n",
    "\n",
    "x = sleepstudy.Days\n",
    "y = sleepstudy.Reaction\n",
    "\n",
    "r, p = stats.pearsonr(x, y)\n",
    "r, p"
   ]
  },
  {
   "cell_type": "code",
   "execution_count": 43,
   "metadata": {},
   "outputs": [
    {
     "data": {
      "text/plain": [
       "<matplotlib.axes._subplots.AxesSubplot at 0x1a1c03c668>"
      ]
     },
     "execution_count": 43,
     "metadata": {},
     "output_type": "execute_result"
    },
    {
     "data": {
      "image/png": "[encoded data removed]",
      "text/plain": [
       "<Figure size 432x288 with 1 Axes>"
      ]
     },
     "metadata": {
      "needs_background": "light"
     },
     "output_type": "display_data"
    }
   ],
   "source": [
    "sleepstudy.plot.scatter(x='Days', y='Reaction')"
   ]
  },
  {
   "cell_type": "markdown",
   "metadata": {},
   "source": [
    "# Chi Square"
   ]
  },
  {
   "cell_type": "code",
   "execution_count": 104,
   "metadata": {},
   "outputs": [
    {
     "name": "stdout",
     "output_type": "stream",
     "text": [
      "chi2: 36.65264142122487\n",
      "p: 1.4116760526193828e-09\n",
      "degf: 1\n",
      "[[34.5 34.5]\n",
      " [15.5 15.5]]\n"
     ]
    }
   ],
   "source": [
    "# Use the following contingency table to help answer the question of whether using a macbook and being a codeup student are independent of each other.\n",
    "\n",
    "index = ['mac', 'no mac']\n",
    "columns = ['codeup student', 'not codeup student']\n",
    "\n",
    "observed = pd.DataFrame([[49, 20], [1, 30]], index=index, columns=columns)\n",
    "observed\n",
    "\n",
    "chi2, p, degf, expected = stats.chi2_contingency(observed)\n",
    "\n",
    "print('chi2:', chi2)\n",
    "print('p:', p) \n",
    "print('degf:', degf)\n",
    "print(expected)\n"
   ]
  },
  {
   "cell_type": "code",
   "execution_count": 151,
   "metadata": {},
   "outputs": [
    {
     "data": {
      "text/html": [
       "<div>\n",
       "<style scoped>\n",
       "    .dataframe tbody tr th:only-of-type {\n",
       "        vertical-align: middle;\n",
       "    }\n",
       "\n",
       "    .dataframe tbody tr th {\n",
       "        vertical-align: top;\n",
       "    }\n",
       "\n",
       "    .dataframe thead th {\n",
       "        text-align: right;\n",
       "    }\n",
       "</style>\n",
       "<table border=\"1\" class=\"dataframe\">\n",
       "  <thead>\n",
       "    <tr style=\"text-align: right;\">\n",
       "      <th></th>\n",
       "      <th>manufacturer</th>\n",
       "      <th>model</th>\n",
       "      <th>displ</th>\n",
       "      <th>year</th>\n",
       "      <th>cyl</th>\n",
       "      <th>trans</th>\n",
       "      <th>drv</th>\n",
       "      <th>cty</th>\n",
       "      <th>hwy</th>\n",
       "      <th>fl</th>\n",
       "      <th>class</th>\n",
       "    </tr>\n",
       "  </thead>\n",
       "  <tbody>\n",
       "    <tr>\n",
       "      <th>1</th>\n",
       "      <td>audi</td>\n",
       "      <td>a4</td>\n",
       "      <td>1.8</td>\n",
       "      <td>1999</td>\n",
       "      <td>4</td>\n",
       "      <td>auto</td>\n",
       "      <td>f</td>\n",
       "      <td>18</td>\n",
       "      <td>29</td>\n",
       "      <td>p</td>\n",
       "      <td>compact</td>\n",
       "    </tr>\n",
       "    <tr>\n",
       "      <th>2</th>\n",
       "      <td>audi</td>\n",
       "      <td>a4</td>\n",
       "      <td>1.8</td>\n",
       "      <td>1999</td>\n",
       "      <td>4</td>\n",
       "      <td>manual</td>\n",
       "      <td>f</td>\n",
       "      <td>21</td>\n",
       "      <td>29</td>\n",
       "      <td>p</td>\n",
       "      <td>compact</td>\n",
       "    </tr>\n",
       "    <tr>\n",
       "      <th>3</th>\n",
       "      <td>audi</td>\n",
       "      <td>a4</td>\n",
       "      <td>2.0</td>\n",
       "      <td>2008</td>\n",
       "      <td>4</td>\n",
       "      <td>manual</td>\n",
       "      <td>f</td>\n",
       "      <td>20</td>\n",
       "      <td>31</td>\n",
       "      <td>p</td>\n",
       "      <td>compact</td>\n",
       "    </tr>\n",
       "    <tr>\n",
       "      <th>4</th>\n",
       "      <td>audi</td>\n",
       "      <td>a4</td>\n",
       "      <td>2.0</td>\n",
       "      <td>2008</td>\n",
       "      <td>4</td>\n",
       "      <td>auto</td>\n",
       "      <td>f</td>\n",
       "      <td>21</td>\n",
       "      <td>30</td>\n",
       "      <td>p</td>\n",
       "      <td>compact</td>\n",
       "    </tr>\n",
       "    <tr>\n",
       "      <th>5</th>\n",
       "      <td>audi</td>\n",
       "      <td>a4</td>\n",
       "      <td>2.8</td>\n",
       "      <td>1999</td>\n",
       "      <td>6</td>\n",
       "      <td>auto</td>\n",
       "      <td>f</td>\n",
       "      <td>16</td>\n",
       "      <td>26</td>\n",
       "      <td>p</td>\n",
       "      <td>compact</td>\n",
       "    </tr>\n",
       "  </tbody>\n",
       "</table>\n",
       "</div>"
      ],
      "text/plain": [
       "  manufacturer model  displ  year  cyl   trans drv  cty  hwy fl    class\n",
       "1         audi    a4    1.8  1999    4    auto   f   18   29  p  compact\n",
       "2         audi    a4    1.8  1999    4  manual   f   21   29  p  compact\n",
       "3         audi    a4    2.0  2008    4  manual   f   20   31  p  compact\n",
       "4         audi    a4    2.0  2008    4    auto   f   21   30  p  compact\n",
       "5         audi    a4    2.8  1999    6    auto   f   16   26  p  compact"
      ]
     },
     "execution_count": 151,
     "metadata": {},
     "output_type": "execute_result"
    }
   ],
   "source": [
    "# Choose another 2 categorical variables from the mpg dataset and perform a chi2 contingency table test with them. \n",
    "# Be sure to state your null and alternative hypotheses.\n",
    "\n",
    "mpg.head(5)\n",
    "n = mpg.shape[0]\n",
    "car_class = mpg['class'].value_counts() / n\n",
    "car_class\n",
    "m_type = mpg['manufacturer'].value_counts() / n\n",
    "m_type\n",
    "\n",
    "expected = pd.DataFrame()\n",
    "\n",
    "for class_group, c_prop in car_class.iteritems():\n",
    "    for type_group, t_prop in m_type.iteritems():\n",
    "        expected.loc[car_class, m_type] = c_prop * t_prop\n",
    "\n",
    "expected.sort_index(inplace=True)\n",
    "expected *= n\n",
    "\n"
   ]
  },
  {
   "cell_type": "code",
   "execution_count": 150,
   "metadata": {},
   "outputs": [
    {
     "data": {
      "text/html": [
       "<div>\n",
       "<style scoped>\n",
       "    .dataframe tbody tr th:only-of-type {\n",
       "        vertical-align: middle;\n",
       "    }\n",
       "\n",
       "    .dataframe tbody tr th {\n",
       "        vertical-align: top;\n",
       "    }\n",
       "\n",
       "    .dataframe thead th {\n",
       "        text-align: right;\n",
       "    }\n",
       "</style>\n",
       "<table border=\"1\" class=\"dataframe\">\n",
       "  <thead>\n",
       "    <tr style=\"text-align: right;\">\n",
       "      <th></th>\n",
       "      <th>emp_no</th>\n",
       "      <th>birth_date</th>\n",
       "      <th>first_name</th>\n",
       "      <th>last_name</th>\n",
       "      <th>gender</th>\n",
       "      <th>hire_date</th>\n",
       "      <th>tenure</th>\n",
       "      <th>title</th>\n",
       "      <th>title_from</th>\n",
       "      <th>t_tenure</th>\n",
       "      <th>titles</th>\n",
       "      <th>salary</th>\n",
       "      <th>salary_from</th>\n",
       "      <th>s_tenure</th>\n",
       "      <th>salaries</th>\n",
       "    </tr>\n",
       "  </thead>\n",
       "  <tbody>\n",
       "    <tr>\n",
       "      <th>0</th>\n",
       "      <td>10001</td>\n",
       "      <td>1953-09-02</td>\n",
       "      <td>Georgi</td>\n",
       "      <td>Facello</td>\n",
       "      <td>M</td>\n",
       "      <td>1986-06-26</td>\n",
       "      <td>5940</td>\n",
       "      <td>Senior Engineer</td>\n",
       "      <td>1986-06-26</td>\n",
       "      <td>5940</td>\n",
       "      <td>1</td>\n",
       "      <td>88958</td>\n",
       "      <td>2002-06-22</td>\n",
       "      <td>100</td>\n",
       "      <td>17</td>\n",
       "    </tr>\n",
       "    <tr>\n",
       "      <th>1</th>\n",
       "      <td>10002</td>\n",
       "      <td>1964-06-02</td>\n",
       "      <td>Bezalel</td>\n",
       "      <td>Simmel</td>\n",
       "      <td>F</td>\n",
       "      <td>1985-11-21</td>\n",
       "      <td>6157</td>\n",
       "      <td>Staff</td>\n",
       "      <td>1996-08-03</td>\n",
       "      <td>2249</td>\n",
       "      <td>1</td>\n",
       "      <td>72527</td>\n",
       "      <td>2001-08-02</td>\n",
       "      <td>424</td>\n",
       "      <td>6</td>\n",
       "    </tr>\n",
       "    <tr>\n",
       "      <th>2</th>\n",
       "      <td>10003</td>\n",
       "      <td>1959-12-03</td>\n",
       "      <td>Parto</td>\n",
       "      <td>Bamford</td>\n",
       "      <td>M</td>\n",
       "      <td>1986-08-28</td>\n",
       "      <td>5877</td>\n",
       "      <td>Senior Engineer</td>\n",
       "      <td>1995-12-03</td>\n",
       "      <td>2493</td>\n",
       "      <td>1</td>\n",
       "      <td>43311</td>\n",
       "      <td>2001-12-01</td>\n",
       "      <td>303</td>\n",
       "      <td>7</td>\n",
       "    </tr>\n",
       "    <tr>\n",
       "      <th>3</th>\n",
       "      <td>10004</td>\n",
       "      <td>1954-05-01</td>\n",
       "      <td>Chirstian</td>\n",
       "      <td>Koblick</td>\n",
       "      <td>M</td>\n",
       "      <td>1986-12-01</td>\n",
       "      <td>5782</td>\n",
       "      <td>Senior Engineer</td>\n",
       "      <td>1995-12-01</td>\n",
       "      <td>2495</td>\n",
       "      <td>2</td>\n",
       "      <td>74057</td>\n",
       "      <td>2001-11-27</td>\n",
       "      <td>307</td>\n",
       "      <td>16</td>\n",
       "    </tr>\n",
       "    <tr>\n",
       "      <th>4</th>\n",
       "      <td>10005</td>\n",
       "      <td>1955-01-21</td>\n",
       "      <td>Kyoichi</td>\n",
       "      <td>Maliniak</td>\n",
       "      <td>M</td>\n",
       "      <td>1989-09-12</td>\n",
       "      <td>4766</td>\n",
       "      <td>Senior Staff</td>\n",
       "      <td>1996-09-12</td>\n",
       "      <td>2209</td>\n",
       "      <td>2</td>\n",
       "      <td>94692</td>\n",
       "      <td>2001-09-09</td>\n",
       "      <td>386</td>\n",
       "      <td>13</td>\n",
       "    </tr>\n",
       "  </tbody>\n",
       "</table>\n",
       "</div>"
      ],
      "text/plain": [
       "   emp_no  birth_date first_name last_name gender   hire_date  tenure  \\\n",
       "0   10001  1953-09-02     Georgi   Facello      M  1986-06-26    5940   \n",
       "1   10002  1964-06-02    Bezalel    Simmel      F  1985-11-21    6157   \n",
       "2   10003  1959-12-03      Parto   Bamford      M  1986-08-28    5877   \n",
       "3   10004  1954-05-01  Chirstian   Koblick      M  1986-12-01    5782   \n",
       "4   10005  1955-01-21    Kyoichi  Maliniak      M  1989-09-12    4766   \n",
       "\n",
       "             title  title_from  t_tenure  titles  salary salary_from  \\\n",
       "0  Senior Engineer  1986-06-26      5940       1   88958  2002-06-22   \n",
       "1            Staff  1996-08-03      2249       1   72527  2001-08-02   \n",
       "2  Senior Engineer  1995-12-03      2493       1   43311  2001-12-01   \n",
       "3  Senior Engineer  1995-12-01      2495       2   74057  2001-11-27   \n",
       "4     Senior Staff  1996-09-12      2209       2   94692  2001-09-09   \n",
       "\n",
       "   s_tenure  salaries  \n",
       "0       100        17  \n",
       "1       424         6  \n",
       "2       303         7  \n",
       "3       307        16  \n",
       "4       386        13  "
      ]
     },
     "execution_count": 150,
     "metadata": {},
     "output_type": "execute_result"
    }
   ],
   "source": [
    "# Use the data from the employees database to answer these questions:\n",
    "employees.head(5)\n",
    "# Is an employee's gender independent of whether an employee works in sales or marketing? (only look at current employees)\n",
    "\n",
    "# Is an employee's gender independent of whether or not they are or have been a manager?"
   ]
  },
  {
   "cell_type": "code",
   "execution_count": null,
   "metadata": {},
   "outputs": [],
   "source": []
  }
 ],
 "metadata": {
  "kernelspec": {
   "display_name": "Python 3",
   "language": "python",
   "name": "python3"
  },
  "language_info": {
   "codemirror_mode": {
    "name": "ipython",
    "version": 3
   },
   "file_extension": ".py",
   "mimetype": "text/x-python",
   "name": "python",
   "nbconvert_exporter": "python",
   "pygments_lexer": "ipython3",
   "version": "3.7.3"
  }
 },
 "nbformat": 4,
 "nbformat_minor": 2
}
