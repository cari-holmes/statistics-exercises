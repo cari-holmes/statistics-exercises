{
 "cells": [
  {
   "cell_type": "code",
   "execution_count": 1,
   "metadata": {},
   "outputs": [],
   "source": [
    "%matplotlib inline\n",
    "import matplotlib.pyplot as plt\n",
    "import numpy as np\n",
    "from scipy import stats\n",
    "\n",
    "np.random.seed(3)"
   ]
  },
  {
   "cell_type": "code",
   "execution_count": 85,
   "metadata": {},
   "outputs": [
    {
     "name": "stdout",
     "output_type": "stream",
     "text": [
      "0.1353352832366127\n",
      "0.32332358381693654\n",
      "0.8646647167633873\n",
      "0.13645\n",
      "0.32435\n",
      "0.86355\n"
     ]
    }
   ],
   "source": [
    "#1. A bank found that the average number of cars waiting during the noon hour at a drive-up window follows a Poisson distribution with a mean of 2 cars. \n",
    "# Make a chart of this distribution and answer these questions concerning the probability of cars waiting at the drive-up window.\n",
    "# What is the probability that no cars drive up in the noon hour?\n",
    "# What is the probability that 3 or more cars come through the drive through?\n",
    "# How likely is it that the drive through gets at least 1 car?\n",
    "\n",
    "cars = 2\n",
    "\n",
    "no_cars = stats.poisson(2).cdf(0)\n",
    "print(no_cars)\n",
    "\n",
    "three_or_more = stats.poisson(2).sf(2)\n",
    "print(three_or_more)\n",
    "\n",
    "one_car = stats.poisson(2).sf(0)\n",
    "print(one_car)\n",
    "\n",
    "#----- Simulations ------#\n",
    "\n",
    "# number of trials\n",
    "n = 100_000\n",
    "\n",
    "zero_cars = np.random.poisson(2, n)\n",
    "zero_cars\n",
    "# probability of zero cars\n",
    "none = (zero_cars == 0).mean()\n",
    "print(none)\n",
    "\n",
    "# probability of 3 or more cars\n",
    "three = (zero_cars >= 3).mean()\n",
    "print(three)\n",
    "\n",
    "# probability of at least 1 car\n",
    "one = (zero_cars > 0).mean()\n",
    "print(one)"
   ]
  },
  {
   "cell_type": "code",
   "execution_count": 91,
   "metadata": {},
   "outputs": [
    {
     "name": "stdout",
     "output_type": "stream",
     "text": [
      "Top five percent gpa is 3.493\n",
      "Bottom fifteen percent gpa 2.689\n",
      "3rd decile is 2.843\n",
      "2nd decile 2.748\n",
      "Yes, a student with a 2.8 gpa would qualify\n",
      "3.4968019621350837\n",
      "2.6886021433461083\n",
      "2.841422193268441\n",
      "2.745973860562711\n"
     ]
    }
   ],
   "source": [
    "#2. Grades of State University graduates are normally distributed with a mean of 3.0 and a standard deviation of .3. Calculate the following:\n",
    "# What grade point average is required to be in the top 5% of the graduating class?\n",
    "# What GPA constitutes the bottom 15% of the class?\n",
    "# An eccentric alumnus left scholarship money for students in the third decile from the bottom of their class. Determine the range of the third decile. \n",
    "# Would a student with a 2.8 grade point average qualify for this scholarship?\n",
    "\n",
    "mean = 3.0\n",
    "std = .3\n",
    "\n",
    "students = stats.norm(mean, std)\n",
    "students\n",
    "\n",
    "top_five = students.isf(.05)\n",
    "top_five\n",
    "print('Top five percent gpa is',np.round(top_five,3))\n",
    "\n",
    "bottom_fifteen = students.ppf(.15)\n",
    "bottom_fifteen\n",
    "print('Bottom fifteen percent gpa',np.round(bottom_fifteen,3))\n",
    "\n",
    "# find range between 2nd - 3rd decile\n",
    "students.ppf(.3)\n",
    "print('3rd decile is',np.round(students.ppf(.3),3))\n",
    "students.ppf(.2)\n",
    "print('2nd decile',np.round(students.ppf(.2),3))\n",
    "print('Yes, a student with a 2.8 gpa would qualify')\n",
    "\n",
    "#----- Simulations -----#\n",
    "\n",
    "n_students = 100_000\n",
    "    \n",
    "grades = np.random.normal(mean, std, n_students)\n",
    "grades\n",
    "# top 5% of class\n",
    "top = np.quantile(grades, .95)\n",
    "print(top)\n",
    "\n",
    "#bottom 15% of class\n",
    "bottom = np.percentile(grades, 15)\n",
    "bottom\n",
    "print(bottom)\n",
    "\n",
    "# 3rd decile\n",
    "third = np.quantile(grades, .3)\n",
    "print(third)\n",
    "# 2nd decile\n",
    "second = np.quantile(grades, .2)\n",
    "print(second)\n"
   ]
  },
  {
   "cell_type": "code",
   "execution_count": 95,
   "metadata": {},
   "outputs": [
    {
     "name": "stdout",
     "output_type": "stream",
     "text": [
      "0.1397582363130086\n",
      "0.1409\n"
     ]
    }
   ],
   "source": [
    "#3. A marketing website has an average click-through rate of 2%. One day they observe 4326 visitors and 97 click-throughs. \n",
    "# How likely is it that this many people or more click through?\n",
    "\n",
    "clicks = stats.binom(4326, .02)\n",
    "print(clicks.sf(96))\n",
    "\n",
    "# This can be done with either binomial or poisson for this particular problem. \n",
    "# stats.poisson(4326 * .02)\n",
    "\n",
    "#----- Simulations -----#\n",
    "\n",
    "trials = 100_000\n",
    "visits = 4326\n",
    "\n",
    "click = np.random.binomial(4326, .02, 100_000)\n",
    "print((click >= 97).mean())\n",
    "\n",
    "\n",
    "#(click <= .02).sum(axis=1) >= 97).mean()\n"
   ]
  },
  {
   "cell_type": "code",
   "execution_count": 96,
   "metadata": {},
   "outputs": [
    {
     "name": "stdout",
     "output_type": "stream",
     "text": [
      "0.4528433576092388\n"
     ]
    },
    {
     "data": {
      "text/plain": [
       "0.010036166666666667"
      ]
     },
     "execution_count": 96,
     "metadata": {},
     "output_type": "execute_result"
    }
   ],
   "source": [
    "#4. You are working on some statistics homework consisting of 100 questions where all of the answers are a probability rounded to the hundreths place. \n",
    "#Looking to save time, you put down random probabilities as the answer to each question.\n",
    "#What is the probability that at least one of your first 60 answers is correct?\n",
    "\n",
    "questions = stats.binom(60, .01)\n",
    "print(questions.sf(0))\n",
    "\n",
    "# ----- Simulations ----- #\n",
    "\n",
    "trials = 100_000\n",
    "questions = 60\n",
    "right = 1/100\n",
    "not_right = 1 - right\n",
    "\n",
    "correct = np.random.choice(['Correct', 'Not Correct'], (trials, 60), p=[right, not_right])\n",
    "(correct == 'Correct').mean()\n"
   ]
  },
  {
   "cell_type": "code",
   "execution_count": 212,
   "metadata": {},
   "outputs": [
    {
     "name": "stdout",
     "output_type": "stream",
     "text": [
      "0.8342199288437355\n",
      "0.16578007115626447\n",
      "0.027483031992576113\n",
      "0.0001252165138809122\n"
     ]
    }
   ],
   "source": [
    "##5. The codeup staff tends to get upset when the student break area is not cleaned up. \n",
    "# Suppose that there's a 3% chance that any one student cleans the break area when they visit it, and, on any given day, about 90% of the 3 active cohorts of 22 students visit the break area. \n",
    "# How likely is it that the break area gets cleaned up each day? \n",
    "# How likely is it that it goes two days without getting cleaned up? \n",
    "# All week?\n",
    "\n",
    "# what is my success? That the kitchen is clean\n",
    "sucess = .03\n",
    "# .9 * 3 * 22\n",
    "trial = 59\n",
    "# round down for people, can't have half\n",
    "\n",
    "clean_break_area = stats.binom(trial,.03)\n",
    "clean_break_area\n",
    "\n",
    "each_day = clean_break_area.sf(0)\n",
    "print(each_day)\n",
    "\n",
    "failure = 1 - each_day\n",
    "print(failure)\n",
    "\n",
    "two_days_failure = failure * failure\n",
    "print(two_days_failure)\n",
    "\n",
    "all_week_failure = failure ** 5\n",
    "print(all_week_failure)\n"
   ]
  },
  {
   "cell_type": "code",
   "execution_count": 3,
   "metadata": {},
   "outputs": [
    {
     "data": {
      "text/plain": [
       "1.0"
      ]
     },
     "execution_count": 3,
     "metadata": {},
     "output_type": "execute_result"
    }
   ],
   "source": [
    "#6. You want to get lunch at La Panaderia, but notice that the line is usually very long at lunchtime. \n",
    "# After several weeks of careful observation, you notice that the average number of people in line when your lunch break starts is normally distributed with a mean of 15 and standard deviation of 3. \n",
    "# If it takes 2 minutes for each person to order, and 10 minutes from ordering to getting your food, what is the likelihood that you have at least 15 minutes left to eat your food before you have to go back to class? \n",
    "# Assume you have one hour for lunch, and ignore travel time to and from La Panaderia.\n",
    "\n",
    "mean = 15\n",
    "std = 3\n",
    "\n",
    "lunch = stats.norm(30, 6)\n",
    "lunch.cdf(35)\n",
    "\n",
    "# 60 mins for lunch\n",
    "# 15 to eat\n",
    "# mean =15ppl * 2 min/each = 30mins per person + 10mins to get food\n",
    "# std = 3 * 2mins +- 6\n",
    "\n",
    "# |----35mins(time to get food)----|45mins(eat lunch) -----60mins|\n",
    "\n",
    "# 60 -(10 + 15)\n",
    "# can add 2 for the time it takes me to order food as well, changing that 35 to 33\n",
    "\n",
    "(np.random.normal(mean, std, 100_000) <= 35).mean()\n"
   ]
  },
  {
   "cell_type": "code",
   "execution_count": 5,
   "metadata": {},
   "outputs": [
    {
     "name": "stdout",
     "output_type": "stream",
     "text": [
      "The mean is 72012.24\n",
      "The standard deviation is 17310.0\n"
     ]
    }
   ],
   "source": [
    "#7. Connect to the employees database and find the average salary of current employees, along with the standard deviation. Model the distribution of employees salaries with a normal distribution and answer the following questions:\n",
    "\n",
    "import numpy as np\n",
    "import pandas as pd\n",
    "\n",
    "from env import host, user, password\n",
    "\n",
    "def get_db_url(host, user, password, database_name):\n",
    "    url = f'mysql+pymysql://{user}:{password}@{host}/{database_name}'\n",
    "    return url\n",
    "\n",
    "database_name = \"employees\"\n",
    "url = f'mysql+pymysql://{user}:{password}@{host}/{database_name}'\n",
    "query = \"\"\"SELECT * FROM salaries WHERE to_date > now()\"\"\"\n",
    "df_salaries = pd.read_sql(query, url)\n",
    "df_salaries.head(10)\n",
    "\n",
    "\n",
    "#mean\n",
    "mean = np.round(df_salaries['salary'].mean(),2)\n",
    "print(\"The mean is\", mean)\n",
    "\n",
    "#std\n",
    "std = np.round(df_salaries['salary'].std(),2)\n",
    "print(\"The standard deviation is\", std)\n",
    "\n",
    "# model employee salaries with normal distribution "
   ]
  },
  {
   "cell_type": "code",
   "execution_count": 56,
   "metadata": {},
   "outputs": [
    {
     "name": "stdout",
     "output_type": "stream",
     "text": [
      "The percent of employees that earn less than 60,000 is 0.244\n",
      "The percent of employees that earn more than 95,000 is 0.092\n",
      "The percent of employees that earn between 65,000 and 80,000 is 0.335\n",
      "The top 5% of employees make 100484.66\n"
     ]
    }
   ],
   "source": [
    "salaries = stats.norm(mean, std)\n",
    "\n",
    "# What percent of employees earn less than 60,000?\n",
    "sixty = salaries.cdf(60_001)\n",
    "print('The percent of employees that earn less than 60,000 is', np.round(sixty,3))\n",
    "\n",
    "# What percent of employees earn more than 95,000?\n",
    "ninty_five = salaries.sf(94_999)\n",
    "print(\"The percent of employees that earn more than 95,000 is\", np.round(ninty_five,3))\n",
    "\n",
    "## What percent of employees earn between 65,000 and 80,000?\n",
    "between_65_80 = salaries.cdf(80_001) - salaries.cdf(64_999)\n",
    "print('The percent of employees that earn between 65,000 and 80,000 is',np.round(between_65_80,3))\n",
    "\n",
    "# What do the top 5% of employees make?\n",
    "print('The top 5% of employees make',np.round(salaries.isf(.05),2))"
   ]
  },
  {
   "cell_type": "code",
   "execution_count": 14,
   "metadata": {},
   "outputs": [
    {
     "name": "stdout",
     "output_type": "stream",
     "text": [
      "0.271\n",
      "0.109\n",
      "0.39996418517099497\n",
      "104225.85\n"
     ]
    }
   ],
   "source": [
    "# What percent of employees earn less than 60,000?\n",
    "less_than_sixty = (df_salaries['salary']<60_000).mean()\n",
    "print(np.round(less_than_sixty,3))\n",
    "\n",
    "# What percent of employees earn more than 95,000?\n",
    "more_than_ninty = (df_salaries['salary']>95_000).mean()\n",
    "print(np.round(more_than_ninty,3))\n",
    "\n",
    "## What percent of employees earn between 65,000 and 80,000?\n",
    "between = ((df_salaries['salary']>65_000) & (df_salaries['salary']<85_000)).mean()\n",
    "print(between)\n",
    "\n",
    "# What do the top 5% of employees make?\n",
    "print(np.round(df_salaries['salary'].quantile(.95),2))"
   ]
  },
  {
   "cell_type": "code",
   "execution_count": null,
   "metadata": {},
   "outputs": [],
   "source": []
  }
 ],
 "metadata": {
  "kernelspec": {
   "display_name": "Python 3",
   "language": "python",
   "name": "python3"
  },
  "language_info": {
   "codemirror_mode": {
    "name": "ipython",
    "version": 3
   },
   "file_extension": ".py",
   "mimetype": "text/x-python",
   "name": "python",
   "nbconvert_exporter": "python",
   "pygments_lexer": "ipython3",
   "version": "3.7.3"
  }
 },
 "nbformat": 4,
 "nbformat_minor": 2
}
