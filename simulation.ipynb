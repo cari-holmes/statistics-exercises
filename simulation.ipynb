{
 "cells": [
  {
   "cell_type": "code",
   "execution_count": 173,
   "metadata": {},
   "outputs": [],
   "source": [
    "import numpy as np \n",
    "import pandas as pd\n",
    "\n",
    "np.random.seed(3)"
   ]
  },
  {
   "cell_type": "code",
   "execution_count": 179,
   "metadata": {},
   "outputs": [
    {
     "data": {
      "text/plain": [
       "0.1655"
      ]
     },
     "execution_count": 179,
     "metadata": {},
     "output_type": "execute_result"
    }
   ],
   "source": [
    "#1. How likely is it that you roll doubles when rolling two dice?\n",
    "\n",
    "# post-review:\n",
    "trials = 10_000\n",
    "dice = 2\n",
    "\n",
    "### numpy array ###\n",
    "\n",
    "# choose numbers 1 - 6 for each side of a die, then create shape with the trials and dice\n",
    "rolls = np.random.choice([1, 2, 3, 4, 5, 6], (trials, dice))\n",
    "# comparing index 0 to index 1 with == for doubles\n",
    "rolls[:,0]==rolls[:,1]\n",
    "# using .mean() to find the average of doubles rolled\n",
    "(rolls[:,0]==rolls[:,1]).mean()\n",
    "# 0.1711\n",
    "\n",
    "### dataframe ###\n",
    "\n",
    "# start with a numpy array to pick random numbers\n",
    "die_rolls = np.random.choice([1, 2, 3, 4, 5, 6], (trials, dice))\n",
    "# turn into a dataframe\n",
    "df_die_rolls = pd.DataFrame(die_rolls)\n",
    "# compare both rows in dataframe to create a boolean value if both values are the same \n",
    "(df_die_rolls[0] == df_die_rolls[1])\n",
    "# find the average with .mean()\n",
    "(df_die_rolls[0] == df_die_rolls[1]).mean()\n",
    "# 0.1655\n",
    "\n",
    "# pre-review:\n",
    "rolled_dice = 10_000\n",
    "n_dice_rolled = 2\n",
    "\n",
    "rolls = np.random.choice([1, 2, 3, 4, 5, 6], (rolled_dice, n_dice_rolled))\n",
    "rolls\n",
    "\n",
    "df_rolls=(pd.DataFrame(rolls)\n",
    "          .apply(lambda row: row[0] == row[1] in row.values, axis=1)\n",
    "         .mean())\n",
    "df_rolls"
   ]
  },
  {
   "cell_type": "code",
   "execution_count": 187,
   "metadata": {},
   "outputs": [
    {
     "data": {
      "text/plain": [
       "0.6366"
      ]
     },
     "execution_count": 187,
     "metadata": {},
     "output_type": "execute_result"
    }
   ],
   "source": [
    "#2. If you flip 8 coins, what is the probability of getting exactly 3 heads? \n",
    "#What is the probability of getting more than 3 heads?\n",
    "\n",
    "# post-review:\n",
    "trials = 10_000\n",
    "coins = 8\n",
    "\n",
    "### numpy array ###\n",
    "\n",
    "# use .choice to work with strings 'heads' and 'tails' then shape by trials and coins\n",
    "flips = np.random.choice([\"heads\", \"tails\"], (trials, coins))\n",
    "# to find just 'heads', use the == comparator to get a boolean value\n",
    "flips == 'heads'\n",
    "# sum up each row individually and check if a row has exactly 3 heads in it, then find average using .mean() \n",
    "((flips == 'heads').sum(axis=1)==3).mean()\n",
    "# 0.2207\n",
    "# sum up each row individually and check if a row has more that 3 heads in it, then find the average using .mean()\n",
    "((flips == 'heads').sum(axis=1)>3).mean()\n",
    "# 0.6334\n",
    "\n",
    "### dataframe ###\n",
    "\n",
    "flips = np.random.choice([\"heads\", \"tails\"], (trials, coins))\n",
    "# turn numpy array into a dataframe\n",
    "df_flips = pd.DataFrame(flips)\n",
    "# create a boolean value, then repeat same process as above with numpy array\n",
    "((df_flips == 'heads').sum(axis=1)==3).mean()\n",
    "# 02.158\n",
    "((df_flips == 'heads').sum(axis=1)>3).mean()\n",
    "# 0.6366\n",
    "\n",
    "# pre-review:\n",
    "trials = 100\n",
    "coins = 8\n",
    "\n",
    "toss = np.random.choice([0, 1], (trials, coins))\n",
    "toss\n",
    "\n",
    "df_toss = pd.DataFrame(toss)\n",
    "df_toss\n",
    "    \n",
    "#what is prob of exactly 3 heads (heads == 3)\n",
    "def head_toss(row):\n",
    "    count = 0\n",
    "    for heads in row:\n",
    "        if heads == 1:\n",
    "            count += 1\n",
    "        return count\n",
    "\n",
    "three = (df_toss.apply(head_toss, axis=1)\n",
    "         .apply(lambda row: row == 3)\n",
    "         .mean())\n",
    "three\n",
    "more_than_three = (df_toss.apply(head_toss, axis=1)\n",
    "                   .apply(lambda row: row > 3)\n",
    "                   .mean())\n",
    "more_than_three"
   ]
  },
  {
   "cell_type": "code",
   "execution_count": 189,
   "metadata": {},
   "outputs": [
    {
     "data": {
      "text/plain": [
       "0.0635"
      ]
     },
     "execution_count": 189,
     "metadata": {},
     "output_type": "execute_result"
    }
   ],
   "source": [
    "#3. There are approximitely 3 web development cohorts for every 1 data science cohort at Codeup. \n",
    "# Assuming that Codeup randomly selects an alumni to put on a billboard, what are the odds that the two billboards I drive past both have data science students on them?\n",
    "\n",
    "trials = 10_000\n",
    "boards = 2\n",
    "\n",
    "# numpy array\n",
    "\n",
    "# use .choice to show the 3 web classes and 1 ds class, then shape by trials and boards\n",
    "billboards = np.random.choice(['web', 'web', 'web', 'data science'], (trials, boards))\n",
    "billboards\n",
    "# find boolean value for boards that == ds\n",
    "billboards == 'data science'\n",
    "# sum up the boards that are both ds and find the average with .mean()\n",
    "((billboards == 'data science').sum(axis=1)==2).mean()\n",
    "# 0.0614\n",
    "\n",
    "# can also make a variable adding the lists together and put the variable into the np array\n",
    "# cohorts = (['web'] * 3 + ['data science'])\n",
    "\n",
    "# can turn it into a dataframe then follow the same steps with the numpy array\n",
    "# df_billboards = pd.DataFrame(billboards)\n",
    "# df_billboards\n",
    "\n",
    "# pre-review:\n",
    "ds = 1/4\n",
    "trials = 100\n",
    "billboards = 2\n",
    "\n",
    "times = np.random.random((trials,billboards))\n",
    "df_times = pd.DataFrame(times)\n",
    "df_times <= ds\n",
    "\n",
    "# .choice and input my own list classes = ['web dev']* 3 + ['ds']\n",
    "# and equal each output == 'ds'"
   ]
  },
  {
   "cell_type": "code",
   "execution_count": 196,
   "metadata": {},
   "outputs": [
    {
     "data": {
      "text/plain": [
       "0.7691"
      ]
     },
     "execution_count": 196,
     "metadata": {},
     "output_type": "execute_result"
    }
   ],
   "source": [
    "#4. Codeup students buy, on average, 3 poptart packages (+- 1.5) a day from the snack vending machine. \n",
    "#If on monday the machine is restocked with 17 poptart packages, how likely is it that I will be able to buy some poptarts on Friday afternoon?\n",
    "\n",
    "# post-review:\n",
    "mean = 3\n",
    "std = 1.5\n",
    "trials = 10_000\n",
    "days = 5\n",
    "\n",
    "# numpy array\n",
    "# use np.round() since you cant buy only a piece of a poptart\n",
    "tarts = np.round(np.random.normal(mean, std, (trials, days)))\n",
    "tarts\n",
    "# to change negative numbers to 0, np.where(condition = True, replace value, if false return original value)\n",
    "full_tart = np.where(tarts < 0, 0, tarts)\n",
    "full_tart\n",
    "# P(sum of tarts sold <= 17) then use .mean()\n",
    "(full_tart.sum(axis=1)<=17).mean()\n",
    "# 0.7691\n",
    "\n",
    "### in pandas, pd.where flips the condition compared to np.where pd.where(condition False, replace value)\n",
    "\n",
    "# pre-review:\n",
    "#Avg_buy = 3/day\n",
    "Monday_stock = 17\n",
    "#Friday_stock = ?\n",
    "times_a_day = 100\n",
    "\n",
    "grab_tart = np.random.normal(3,1.5, (times_a_day, 5))\n",
    "df_tart=pd.DataFrame(grab_tart)\n",
    "df_tart\n",
    "tart_sales = df_tart.sum(axis=1)<=17\n",
    "tart_sales.mean()"
   ]
  },
  {
   "cell_type": "code",
   "execution_count": 101,
   "metadata": {},
   "outputs": [
    {
     "data": {
      "text/plain": [
       "0.2152"
      ]
     },
     "execution_count": 101,
     "metadata": {},
     "output_type": "execute_result"
    }
   ],
   "source": [
    "#5. Compare Heights\n",
    "# Men have an average height of 178 cm and standard deviation of 8cm.\n",
    "# Women have a mean of 170, sd = 6cm.\n",
    "# If a man and woman are chosen at random, P(woman taller than man)?\n",
    "\n",
    "#post-review:\n",
    "# numpy array\n",
    "\n",
    "trials = 10_000\n",
    "\n",
    "# Men\n",
    "m_mean = 178\n",
    "m_std = 8\n",
    "# create an array of men's heights\n",
    "men = np.random.normal(m_mean, m_std, trials)\n",
    "men\n",
    "\n",
    "# Women\n",
    "w_mean = 170\n",
    "w_std = 6\n",
    "# create an array of women's heights\n",
    "women = np.random.normal(w_mean, w_std, trials)\n",
    "women\n",
    "# compare men's and women's heights to find likihood of choosing a woman who is taller and get the average with .mean()\n",
    "(women > men).mean()\n",
    "# 0.2152\n",
    "\n",
    "# pre-review:\n",
    "men_height = 178\n",
    "men_std = 8\n",
    "women_height = 170\n",
    "women_std = 6\n",
    "n_trials = 100\n",
    "\n",
    "men = np.random.normal(men_height,men_std, n_trials)\n",
    "men\n",
    "women = np.random.normal(women_height,women_std, n_trials)\n",
    "women\n",
    "\n",
    "women_taller = (women > men).mean()\n",
    "women_taller"
   ]
  },
  {
   "cell_type": "code",
   "execution_count": 145,
   "metadata": {},
   "outputs": [
    {
     "data": {
      "text/plain": [
       "0.84"
      ]
     },
     "execution_count": 145,
     "metadata": {},
     "output_type": "execute_result"
    }
   ],
   "source": [
    "#6. When installing anaconda on a student's computer, there's a 1 in 250 chance that the download is corrupted and the installation fails. \n",
    "# What are the odds that after having 50 students download anaconda, no one has an installation issue? 100 students?\n",
    "# What is the probability that we observe an installation issue within the first 150 students that download anaconda?\n",
    "# How likely is it that 450 students all download anaconda without an issue?\n",
    "\n",
    "# numpy array\n",
    "\n",
    "trials = 10_000\n",
    "corrupted = 1/250\n",
    "\n",
    "# 50 students downloading (==0, meaning no corrupted downloads)\n",
    "fifty = (((np.random.random((trials, 50)) # generate numbers by choosing .random and shape by trials and number of students\n",
    "          < corrupted)\n",
    "          .sum(axis=1) \n",
    "          == 0)\n",
    "          .mean()) \n",
    "fifty\n",
    "# 0.8179\n",
    "\n",
    "# 100 students downloading\n",
    "hundred = (((np.random.random((trials, 100)) \n",
    "             < corrupted)\n",
    "            .sum(axis=1) \n",
    "            == 0)\n",
    "           .mean())\n",
    "hundred\n",
    "# 0.6753\n",
    "\n",
    "# issue within the first 150 students (>0, meaning find the corrupted downloads)\n",
    "one_hundred_fifty = (((np.random.random((trials, 150)) \n",
    "                       < corrupted)\n",
    "                      .sum(axis=1) \n",
    "                      > 0) \n",
    "                     .mean())\n",
    "one_hundred_fifty\n",
    "# 0.4492\n",
    "\n",
    "# 450 students without an issue\n",
    "four_fifty = (((np.random.random((trials, 450)) \n",
    "                < corrupted)\n",
    "               .sum(axis=1) \n",
    "               > 0) \n",
    "              .mean())\n",
    "four_fifty\n",
    "# 0.8335\n",
    "\n",
    "#pre-review:\n",
    "corrupted = 1/250 \n",
    "students = 50 \n",
    "n_trials = 100\n",
    "\n",
    "fifty = np.random.choice([0,1], n_trials, students)\n",
    "\n",
    "#corrupt = (fifty <= corrupted).sum(axis=1)\n",
    "# 1 - array number for nobody had problem answer\n",
    "# bool turns into true/false value\n",
    "#.sum(axis=1) number of true for each row\n",
    "# == 0 for no problems\n",
    "# .mean() for average\n",
    "\n",
    "((np.random.random((n_trials, 50)) < corrupted).sum(axis=1) >0).mean()"
   ]
  },
  {
   "cell_type": "code",
   "execution_count": 151,
   "metadata": {},
   "outputs": [
    {
     "data": {
      "text/plain": [
       "0.0286"
      ]
     },
     "execution_count": 151,
     "metadata": {},
     "output_type": "execute_result"
    }
   ],
   "source": [
    "#7. There's a 70% chance on any given day that there will be at least one food truck at Travis Park. However, you haven't seen a food truck there in 3 days. \n",
    "# How unlikely is this?\n",
    "# How likely is it that a food truck will show up sometime this week?\n",
    "\n",
    "# post-review:\n",
    "# numpy array\n",
    "\n",
    "trial = 10_000\n",
    "truck = .7\n",
    "\n",
    "\n",
    "# no truck in 3 days (==0, meaning the truck didn't show up)\n",
    "foodtruck = (((np.random.random((trial, 3)) \n",
    "               < truck)\n",
    "              .sum(axis=1) \n",
    "              == 0)\n",
    "             .mean())\n",
    "foodtruck\n",
    "# 0.0286\n",
    "\n",
    "# truck will show up sometime this week (>0, meaning the truck will show up sometime)\n",
    "f_truck = (((np.random.random((trial, 5)) \n",
    "             < truck)\n",
    "            .sum(axis=1) \n",
    "            > 0)\n",
    "           .mean())\n",
    "f_truck\n",
    "# 0.9969\n",
    "\n",
    "# pre-review:\n",
    "days = 3\n",
    "trials = 100\n",
    "chance_of_truck = .7\n",
    "no_truck = 1 - chance_of_truck\n",
    "\n",
    "foodies = np.random.choice(['Food Truck', 'No Food Truck'],(trials, days), p=[chance_of_truck, no_truck])\n",
    "# bool val\n",
    "(foodies == 'No Food Truck').all(axis=1).mean()\n",
    "\n",
    "# can solve np.random.choice([0,0,0,1,1,1,1,1,1,1])"
   ]
  },
  {
   "cell_type": "code",
   "execution_count": 169,
   "metadata": {},
   "outputs": [
    {
     "data": {
      "text/plain": [
       "0.5141"
      ]
     },
     "execution_count": 169,
     "metadata": {},
     "output_type": "execute_result"
    }
   ],
   "source": [
    "###8. If 23 people are in the same room, what are the odds that two of them share a birthday? \n",
    "# What if it's 20 people? 40?\n",
    "\n",
    "# post-review:\n",
    "trials = 10_000\n",
    "\n",
    "# 2 people share a birthday\n",
    "people = 23\n",
    "two_share = np.random.choice(range(365), (trials, people))\n",
    "[np.unique(two_share).size for two_share in two_share]\n",
    "birthday = np.array([np.unique(two_share).size for two_share in two_share])\n",
    "(birthday < people).mean()\n",
    "# 0.5141\n",
    "\n",
    "# 20 people share a birthday\n",
    "p = 20\n",
    "twenty_share = np.random.choice(range(365), (trials, p))\n",
    "[np.unique(twenty_share).size for twenty_share in twenty_share]\n",
    "twenty = np.array([[np.unique(twenty_share).size for twenty_share in twenty_share]])\n",
    "(twenty < p).mean()\n",
    "# 0.4146\n",
    "\n",
    "# 40 people share a birthday\n",
    "ppl = 40\n",
    "forty_share = np.random.choice(range(365), (trials, ppl))\n",
    "[np.unique(forty_share).size for forty_share in forty_share]\n",
    "forty = np.array([[np.unique(forty_share).size for forty_share in forty_share]])\n",
    "(forty < ppl).mean()\n",
    "# 0.8927\n",
    "\n",
    "#pre-review:\n",
    "n_sims = 100\n",
    "n_people = 23\n",
    "\n",
    ".nunique()"
   ]
  }
 ],
 "metadata": {
  "kernelspec": {
   "display_name": "Python 3",
   "language": "python",
   "name": "python3"
  },
  "language_info": {
   "codemirror_mode": {
    "name": "ipython",
    "version": 3
   },
   "file_extension": ".py",
   "mimetype": "text/x-python",
   "name": "python",
   "nbconvert_exporter": "python",
   "pygments_lexer": "ipython3",
   "version": "3.7.3"
  }
 },
 "nbformat": 4,
 "nbformat_minor": 2
}
