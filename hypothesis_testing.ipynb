{
 "cells": [
  {
   "cell_type": "markdown",
   "metadata": {},
   "source": [
    "For each of the following questions, formulate a null and alternative hypothesis (be as specific as you can be), then give an example of what a true positive, true negative, type I and type II errors would look like."
   ]
  },
  {
   "cell_type": "markdown",
   "metadata": {},
   "source": [
    "1. Is the website redesign any good?\n",
    "\n",
    "    - Ho = There is no difference between the old web design and the new web design.\n",
    "    - Ha = The new website design is better than the old website design.\n",
    "\n",
    "    - True positive (correctly reject Null Hypothesis): \n",
    "    We correctly reject the Ho based off of a low p-value, there was an effect accoding to the Ha.\n",
    "    \n",
    "    - True Negative (correctly accept(fail to reject) the Null Hypothesis): \n",
    "    We correctly fail to reject the Ho based off of a high p-value, higher than our alpha, no significant effect.\n",
    "   \n",
    "    - Type I error (Null Hypothesis is True but we reject it): \n",
    "    We wrongly reject the Ho based on our sample data but the Ho was actually correct. The web design had no effect.\n",
    "    \n",
    "    - Type II error (Null Hypothesis is False and we don't reject it):\n",
    "    We wrongly failed to reject the Ho based on our sample data that web design had no effect but the Ho was actually\n",
    "    incorrect. The web design had an effect."
   ]
  },
  {
   "cell_type": "markdown",
   "metadata": {},
   "source": [
    "2. Is our television ad driving more sales?\n",
    "\n",
    "    - Ho = Our television ad makes no difference in sales.\n",
    "    - Ha = Our television ad is driving more in sales.\n",
    "\n",
    "    - True positive (correctly reject Null Hypothesis): \n",
    "    We correctly reject the Ho based on the fact our p-value is lower than our alpha. Our television ad is driving\n",
    "    more in sales.\n",
    "    \n",
    "    - True Negative (correctly accept(fail to reject) the Null Hypothesis):\n",
    "    We correctly fail to reject the Ho, our television ad makes no difference in sales. The p-value is higher than\n",
    "    our alpha.\n",
    "   \n",
    "    - Type I error (Null Hypothesis is True but we reject it):\n",
    "    We wrongly reject our Ho based on our sample data, but the Ho was actually correct. Our television add makes no\n",
    "    differene in sales.\n",
    "   \n",
    "    - Type II error (Null Hypothesis is False and we don't reject it):\n",
    "    We wrongly failed to reject the Ho based on sample data. Our sample data said the television ads made no \n",
    "    difference in sales but our television ads were driving more in sales, had an effect."
   ]
  },
  {
   "cell_type": "markdown",
   "metadata": {},
   "source": [
    "3. Has the network latency gone up since we switched internet service providers?\n",
    "\n",
    "    - Ho = There is no difference in the network latency since we switched internet service providers.\n",
    "    - Ha = The network latency had gone up since we switched internet service providers.\n",
    "\n",
    "    - True positive (correctly reject Null Hypothesis): \n",
    "    We correctly reject the Ho based on a low p-value, lower than our alpha. There is a difference/a change in the \n",
    "    network latency since we switched internet service providers.\n",
    "    \n",
    "    - True Negative (correctly accept(fail to reject) the Null Hypothesis):\n",
    "    We correctly fail to reject the Ho, the network latency did not change since we switched internet service \n",
    "    providers. The p-value is greater than our alpha.\n",
    "    \n",
    "    - Type I error (Null Hypothesis is True but we reject it):\n",
    "    We wrongly rejected our Ho based on sample data, but the Ho was actually correct, there is no difference in \n",
    "    network latency since switching internet service providers.\n",
    "    \n",
    "    - Type II error (Null Hypothesis is False and we don't reject it):\n",
    "    We wrongly fail to reject the Ho based on sample data. The latency has changed since switching internet service\n",
    "    providers and had an effect.\n",
    "    "
   ]
  },
  {
   "cell_type": "markdown",
   "metadata": {},
   "source": [
    "4. Ace Realty wants to determine whether the average time it takes to sell homes is different for its two offices. A sample of 40 sales from office #1 revealed a mean of 90 days and a standard deviation of 15 days. A sample of 50 sales from office #2 revealed a mean of 100 days and a standard deviation of 20 days. Use a .05 level of significance.\n"
   ]
  },
  {
   "cell_type": "markdown",
   "metadata": {},
   "source": [
    "5. Load the mpg dataset and use it to answer the following questions:\n",
    "\n",
    "- Is there a difference in fuel-efficiency in cars from 2008 vs 1999?\n",
    "- Are compact cars more fuel-efficient than the average car?\n",
    "- Do manual cars get better gas mileage than automatic cars?\n"
   ]
  }
 ],
 "metadata": {
  "kernelspec": {
   "display_name": "Python 3",
   "language": "python",
   "name": "python3"
  },
  "language_info": {
   "codemirror_mode": {
    "name": "ipython",
    "version": 3
   },
   "file_extension": ".py",
   "mimetype": "text/x-python",
   "name": "python",
   "nbconvert_exporter": "python",
   "pygments_lexer": "ipython3",
   "version": "3.7.3"
  }
 },
 "nbformat": 4,
 "nbformat_minor": 2
}
