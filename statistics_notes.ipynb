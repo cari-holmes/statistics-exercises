{
 "cells": [
  {
   "cell_type": "markdown",
   "metadata": {},
   "source": [
    "## Import Statements ##"
   ]
  },
  {
   "cell_type": "code",
   "execution_count": null,
   "metadata": {},
   "outputs": [],
   "source": [
    "%matplotlib inline\n",
    "import matplotlib.pyplot as plt\n",
    "import numpy as np\n",
    "import pandas as pd\n",
    "from scipy import stats\n",
    "from env import host, user, password\n",
    " np.random.seed(123)"
   ]
  },
  {
   "cell_type": "markdown",
   "metadata": {},
   "source": [
    "## Types of Distributions ##"
   ]
  },
  {
   "cell_type": "markdown",
   "metadata": {},
   "source": [
    "#### Normal Distribution ####\n",
    "- models a continuous random variable \n",
    "- the further away from the mean you are, the less likely the outcome\n",
    "- commonly referred to as the 'bell curve'\n",
    "- many conituous variables tend to follow a normal distribution\n",
    "- defined by a mean and a standard deviation\n",
    "    - standard normal distribution is a normal distribution with a mean\n",
    "      of 0 and a standard deviation of 1"
   ]
  },
  {
   "cell_type": "code",
   "execution_count": null,
   "metadata": {},
   "outputs": [],
   "source": [
    "# examples: \n",
    "\n",
    "mean = \n",
    "std = \n",
    "\n",
    "# theoretical\n",
    "distribution = stats.norm(mean, std)\n",
    "distribution.function()\n",
    "    # function can be .pdf(), .pmf(), cdf(), ppf(), sf(), isf()\n",
    "\n",
    "##Example:    \n",
    "\n",
    "mean = 3.0\n",
    "std = .3\n",
    "students = stats.norm(mean, std)    \n",
    "    \n",
    "# simulation/experimental\n",
    "np.random.normal(mean, std, size)\n",
    "    # numpy array\n",
    "    \n",
    "##Example:\n",
    "\n",
    "mean = 3.0\n",
    "std = .3\n",
    "n_students = 100_000\n",
    "grades = np.random.normal(mean, std, n_students)"
   ]
  },
  {
   "cell_type": "markdown",
   "metadata": {},
   "source": [
    "#### Binomial Distribution ####\n",
    "- models the number of success after a number of trials, given a certain \n",
    "  probability of success\n",
    "- defined by a number of trials and a probability of success\n",
    "- assumes that each trial is independent of the others\n",
    "- the definition of a 'success' can vary\n",
    "    - really we need a random variable with two outcomes, and we can define one of the outcomes as a success\n",
    "    - a binomial distribution with an n of 1 is reffered to as a Bernoulli Distribution"
   ]
  },
  {
   "cell_type": "code",
   "execution_count": null,
   "metadata": {},
   "outputs": [],
   "source": [
    "# examples:\n",
    "\n",
    "n = n_trials\n",
    "p = probability of success\n",
    "\n",
    "# theoretical\n",
    "distribution = stats.binom(n, p)\n",
    "distribution.function()\n",
    "    # function can be .pdf(), .pmf(), cdf(), ppf(), sf(), isf()\n",
    "\n",
    "##Example:\n",
    "\n",
    "clicks = stats.binom(4326, .02)\n",
    "    \n",
    "# simulation/experimental\n",
    "np.normal.binomial(n, p, size)\n",
    "    # numpy array\n",
    "    \n",
    "##Example:\n",
    "\n",
    "click = np.random.binomial(4326, .02, 100_000)\n",
    "(click >= 97).mean()"
   ]
  },
  {
   "cell_type": "markdown",
   "metadata": {},
   "source": [
    "#### Poisson Distribution ####\n",
    "- models a situation where a certain number of events happen over a\n",
    "  specified time interval\n",
    "- number of events is a discrete measure\n",
    "- this distributino can tell us the likihood of a certain number of \n",
    "  events occuring over the time period\n",
    "- assumes that the events are inpedendent of each other and independent \n",
    "  of the time since the last event\n",
    "- must know the average rate to use poisson distribution"
   ]
  },
  {
   "cell_type": "code",
   "execution_count": null,
   "metadata": {},
   "outputs": [],
   "source": [
    "# examples\n",
    "\n",
    "mean = avg rate/time\n",
    "\n",
    "# theoretical\n",
    "distribution = stats.poisson(mean)\n",
    "distribution.function()\n",
    "    # function can be .pdf(), .pmf(), cdf(), ppf(), sf(), isf()\n",
    "    \n",
    "##Example:\n",
    "\n",
    "cars = 2\n",
    "no_cars = stats.poisson(2).cdf(0)\n",
    "    \n",
    "# simulation/experimental\n",
    "np.random.poisson(mean, n_trials)\n",
    "    #numpy array\n",
    "\n",
    "##Example:    \n",
    "\n",
    "n = 100_000\n",
    "zero_cars = np.random.poisson(2, n)\n",
    "none = (zero_cars == 0).mean()\n",
    "#or\n",
    "(zero_cars.rvs(n) == 0).mean()"
   ]
  },
  {
   "cell_type": "markdown",
   "metadata": {},
   "source": [
    "#### Uniform Distribution ####\n",
    "- models events where the outcome is discrete\n",
    "- each outcome has an equally likely chance of happening"
   ]
  },
  {
   "cell_type": "code",
   "execution_count": null,
   "metadata": {},
   "outputs": [],
   "source": [
    "# example: rolling a 6-sided die\n",
    "\n",
    "die_dist = stats.randint(1, 7)\n",
    "# .randint gives a range 1-7, 7 being exclusive\n",
    "\n",
    "die_dist.rvs() \n",
    "    # returns a single random value from die_dist\n",
    "die_dist.rvs(5)\n",
    "    # returns 5 random values\n",
    "die_dist.rvs((5, 5))\n",
    "    # returns a matrix of rancom values"
   ]
  },
  {
   "cell_type": "markdown",
   "metadata": {},
   "source": [
    "## Distribution Methods ##"
   ]
  },
  {
   "cell_type": "markdown",
   "metadata": {},
   "source": [
    "#### rvs() ####\n",
    "- generates random values based on distribution\n",
    "- can pass:\n",
    "    - no argument to get a single random value\n",
    "        - distributino.rvs()\n",
    "        - 6\n",
    "    - a single integer to get that many random values\n",
    "        - distibution.rvs(5)\n",
    "        - array([3, 5, 3, 2, 5])\n",
    "    - a tuple with the dimensions of a matrix of random values\n",
    "        - distribution.rvs((5, 5))\n",
    "        - array([[3,4,2,2,1],\n",
    "                 [2,2,1,1,2],\n",
    "                 [4,6,5,1,1],\n",
    "                 [5,2,4,3,5],\n",
    "                 [3,5,1,6,1]])"
   ]
  },
  {
   "cell_type": "markdown",
   "metadata": {},
   "source": [
    "PDF/PPF: probability our random variable takes on a given value '=='\n",
    "\n",
    "#### Probability Desnsity Function - pdf()\n",
    "- for continuous distributions \n",
    "- accepts a probability\n",
    "- returns an exact value \n",
    "\n",
    "#### Probability Mass Funtion - pmf()\n",
    "- for discrete distributions\n",
    "- accepts single value\n",
    "- returns the probability of any single outcome"
   ]
  },
  {
   "cell_type": "markdown",
   "metadata": {},
   "source": [
    "CDF/PPF: probability our random variable takes on a value less than or equal to a given point '<='\n",
    "\n",
    "#### Cumulative Density Function - cdf() \n",
    "- given a value, what is the probability?\n",
    "    - looking left, inclusive\n",
    "\n",
    "#### Percent Point Function - ppf()\n",
    "- also known as the quantile function\n",
    "- given a probability, what is the value?"
   ]
  },
  {
   "cell_type": "markdown",
   "metadata": {},
   "source": [
    "SF/ISF: probability our random variable takes on a value greater than a given point '>='\n",
    "\n",
    "#### Survival Function - sf()\n",
    "- given a value, what is the probability?\n",
    "- greater than a number, not including that number \n",
    "    - looking right, non inclusive\n",
    "\n",
    "#### Inverse Survival Function - isf()\n",
    "- given a probability, what is the value?"
   ]
  },
  {
   "cell_type": "markdown",
   "metadata": {},
   "source": [
    "## Hypothesis Testing ##\n",
    "- process of comapring one hypothesis to another\n",
    "- uses statistics to help evaluate the hypothesis"
   ]
  },
  {
   "cell_type": "code",
   "execution_count": null,
   "metadata": {},
   "outputs": [],
   "source": [
    "# Null Hypothesis --> Ho --> the 'default' hypothesis, usually no change\n",
    "# Alternative Hypothes --> H1 or Ha --> some sort of change, difference between what is being tested\n",
    "# Significance Level, False Positive Rate --> P(FP) = P(Tpye I Error)\n",
    "# Statistical Power --> P(Reject Ho when Ho is false)\n",
    "# False Negative Rate --> P(FN) - P(Type II Error)\n",
    "# p-value --> P(we observed this result due to chance | H0 is true)"
   ]
  },
  {
   "cell_type": "markdown",
   "metadata": {},
   "source": [
    "#### Central Limit Theorem ####\n",
    "- tells us that the sampling distribution for a random variable is \n",
    "  normally distributed, even if the underlying random variable is not\n",
    "- this concept allows us to make calculations using the normal \n",
    "  distribution based on the values we calculate from our samples"
   ]
  },
  {
   "cell_type": "code",
   "execution_count": null,
   "metadata": {},
   "outputs": [],
   "source": [
    "# Reject the Null Hypothesis\n",
    "# Fail to reject the Null Hypothesis \n",
    "- two statements used to determine the result of the statistical testing\n",
    "- this does not tell us that the alternative hypothesis is true\n",
    "- the alternative hypothesis can either be that there is a difference or that the difference is greater or less than\n",
    "- tells us whether we are setting up a two-tailed (for any difference)\n",
    "- or a one-tailed (for a specific defference) test"
   ]
  },
  {
   "cell_type": "markdown",
   "metadata": {},
   "source": [
    "#### Hypothesis Test Results ####\n",
    "Confidence Interval - range of values within we are sure our statistic will fall a certain percent of the time, for our testing to begin\n",
    "Significance Level - we set our significance level (alpha) by choosing a confidence interval.\n",
    "- alpha is defined as 1 - confidence interval(.95) == (.05)\n",
    "- typical confidence levels are 95%, 99%, 99.9%\n",
    "\n",
    "#### p-values ####\n",
    "- is represented at the chanve that we obtained the results we did (or would obtain more extreme results) due to\n",
    "  chance if the null hypothesis is true\n",
    "- if p-value us less than alpha, we reject the null hypothesis \n",
    "- if p-value is more than alpha, we fail to reject the null hypothesis "
   ]
  },
  {
   "cell_type": "markdown",
   "metadata": {},
   "source": [
    "#### Hypothesis Testing Errors ####\n",
    "Type I Error\n",
    "- when we reject the null hypothesis, but in reality, the null hypothesis is true\n",
    "- you rejected the Ho when you should have left it alone - Sin of Commission\n",
    "Type II Error\n",
    "- when we fail to reject the null hypothesis when the null hypothesis is actually false\n",
    "- you left the Ho alone when you should have reject it - Sin of Ommission"
   ]
  },
  {
   "cell_type": "markdown",
   "metadata": {},
   "source": [
    "## T-Test ##\n",
    "- a t-test lets us compare a categorical and a continuous variable by comparing the mean of the continuous variable by subgroups based on the categorical variable\n",
    "- can help answer questions such as:\n",
    "    - are the salaries of the marketing department higher than the \n",
    "      company average?\n",
    "    - do customers that receive marketing emails spend more money?\n",
    "    - are sales for product A higher when we run apromotion for it?"
   ]
  },
  {
   "cell_type": "markdown",
   "metadata": {},
   "source": [
    "#### One Sample T-Test ####\n",
    "- lets us compare the mean for a specific subgroup against the popultion \n",
    "  mean\n",
    "- lets us compare a categorical and continuous variable by using subgroup\n",
    "  and population means\n",
    "- Null Hypothesis: there is no difference in the means of our subgroup \n",
    "  and the population\n",
    "- we assume that the continuous variable is normally distributed\n",
    "\n",
    "t = x−μ / s/√n\n",
    "\n",
    "x = sample mean\n",
    "m = population\n",
    "\n",
    "\n",
    "t = (xbar - pop_mean) / (sample_stdev / sqrt(sample_pop_number))\n",
    "print(f\"t-score = {t}\")\n",
    "p = stats.t(sample_pop_number - 1).sf(t) * 2\n",
    "print(f\"p-value = {p}\")"
   ]
  },
  {
   "cell_type": "code",
   "execution_count": null,
   "metadata": {},
   "outputs": [],
   "source": [
    "Two Sample T-Test"
   ]
  },
  {
   "cell_type": "markdown",
   "metadata": {},
   "source": [
    "## Misc. ##"
   ]
  },
  {
   "cell_type": "code",
   "execution_count": null,
   "metadata": {},
   "outputs": [],
   "source": [
    "Trial vs Simulation:\n",
    "21 students toss 10 coins each\n",
    "10 trials - specific to binom dist. (experiment)\n",
    "21 simulations - number of times"
   ]
  },
  {
   "cell_type": "markdown",
   "metadata": {},
   "source": [
    "Generating Random Numbers with Numpy\n",
    "The numpy.random module provides a number of functions for generating random numbers.\n",
    "\n",
    "np.random.choice: selects random options from a list\n",
    "np.random.uniform: generates numbers between a given lower and upper bound\n",
    "np.random.random: generates numbers between 0 and 1\n",
    "np.random.randn: generates numbers from the standard normal distribution\n",
    "np.random.normal: generates numbers from a normal distribution with a specified mean and standard deviation"
   ]
  },
  {
   "cell_type": "code",
   "execution_count": null,
   "metadata": {},
   "outputs": [],
   "source": [
    "discrete variable is counted\n",
    "    - n_students, n_parents\n",
    "continuous variable is measured\n",
    "    - height, weight"
   ]
  },
  {
   "cell_type": "code",
   "execution_count": null,
   "metadata": {},
   "outputs": [],
   "source": [
    "add additional t-test\n",
    "add dcorrelation\n",
    "add chi squared"
   ]
  },
  {
   "cell_type": "code",
   "execution_count": null,
   "metadata": {},
   "outputs": [],
   "source": [
    "# t-test for one sample - one subgroup to the population, wiht a sequence and a scalar\n",
    "stats.ttest_1samp(series/array/etc , mean)\n",
    "# (sequence of values: list, population average: float)\n",
    "\n",
    "# t-test for 2 samples - comparing 2 subgroups, with 2 sequences\n",
    "stats.test_ind(series 1, series 2)\n",
    "# (sequence of values 1: list, sequence of values 2: list)"
   ]
  }
 ],
 "metadata": {
  "kernelspec": {
   "display_name": "Python 3",
   "language": "python",
   "name": "python3"
  },
  "language_info": {
   "codemirror_mode": {
    "name": "ipython",
    "version": 3
   },
   "file_extension": ".py",
   "mimetype": "text/x-python",
   "name": "python",
   "nbconvert_exporter": "python",
   "pygments_lexer": "ipython3",
   "version": "3.7.3"
  }
 },
 "nbformat": 4,
 "nbformat_minor": 2
}
